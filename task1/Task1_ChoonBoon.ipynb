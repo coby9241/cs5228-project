{
 "cells": [
  {
   "cell_type": "code",
   "execution_count": 1,
   "id": "6f45a570",
   "metadata": {},
   "outputs": [],
   "source": [
    "%load_ext autoreload\n",
    "%autoreload 2"
   ]
  },
  {
   "cell_type": "code",
   "execution_count": 2,
   "id": "d27623ba",
   "metadata": {},
   "outputs": [],
   "source": [
    "import sys\n",
    "import pandas as pd\n",
    "import numpy as np\n",
    "\n",
    "from sklearn.preprocessing import OrdinalEncoder, OneHotEncoder\n",
    " \n",
    "# setting path\n",
    "sys.path.append('../')\n",
    "\n",
    "from utils.processing import preprocess"
   ]
  },
  {
   "cell_type": "code",
   "execution_count": 3,
   "id": "e1cdbd7e",
   "metadata": {},
   "outputs": [],
   "source": [
    "df = pd.read_csv('../data/train.csv')\n",
    "df = preprocess(df)"
   ]
  },
  {
   "cell_type": "code",
   "execution_count": 4,
   "id": "4dc89ee0",
   "metadata": {},
   "outputs": [
    {
     "data": {
      "text/html": [
       "<div>\n",
       "<style scoped>\n",
       "    .dataframe tbody tr th:only-of-type {\n",
       "        vertical-align: middle;\n",
       "    }\n",
       "\n",
       "    .dataframe tbody tr th {\n",
       "        vertical-align: top;\n",
       "    }\n",
       "\n",
       "    .dataframe thead th {\n",
       "        text-align: right;\n",
       "    }\n",
       "</style>\n",
       "<table border=\"1\" class=\"dataframe\">\n",
       "  <thead>\n",
       "    <tr style=\"text-align: right;\">\n",
       "      <th></th>\n",
       "      <th>listing_id</th>\n",
       "      <th>title</th>\n",
       "      <th>address</th>\n",
       "      <th>property_name</th>\n",
       "      <th>property_type</th>\n",
       "      <th>tenure</th>\n",
       "      <th>built_year</th>\n",
       "      <th>num_beds</th>\n",
       "      <th>num_baths</th>\n",
       "      <th>size_sqft</th>\n",
       "      <th>...</th>\n",
       "      <th>tenure_low_year</th>\n",
       "      <th>floor_level_ground</th>\n",
       "      <th>floor_level_high</th>\n",
       "      <th>floor_level_low</th>\n",
       "      <th>floor_level_mid</th>\n",
       "      <th>floor_level_penthouse</th>\n",
       "      <th>floor_level_top</th>\n",
       "      <th>furnishing_partial</th>\n",
       "      <th>furnishing_unfurnished</th>\n",
       "      <th>furnishing_unspecified</th>\n",
       "    </tr>\n",
       "  </thead>\n",
       "  <tbody>\n",
       "    <tr>\n",
       "      <th>0</th>\n",
       "      <td>122881</td>\n",
       "      <td>hdb flat for sale in 866 yishun street 81</td>\n",
       "      <td>sembawang / yishun (d27)</td>\n",
       "      <td>866 yishun street 81</td>\n",
       "      <td>property_type_public</td>\n",
       "      <td>NA</td>\n",
       "      <td>1988.0</td>\n",
       "      <td>3.0</td>\n",
       "      <td>2.0</td>\n",
       "      <td>1115</td>\n",
       "      <td>...</td>\n",
       "      <td>0</td>\n",
       "      <td>0</td>\n",
       "      <td>0</td>\n",
       "      <td>0</td>\n",
       "      <td>0</td>\n",
       "      <td>0</td>\n",
       "      <td>0</td>\n",
       "      <td>0</td>\n",
       "      <td>0</td>\n",
       "      <td>1</td>\n",
       "    </tr>\n",
       "    <tr>\n",
       "      <th>1</th>\n",
       "      <td>259374</td>\n",
       "      <td>hdb flat for sale in 506b serangoon north aven...</td>\n",
       "      <td>hougang / punggol / sengkang (d19)</td>\n",
       "      <td>hdb-serangoon estate</td>\n",
       "      <td>property_type_public</td>\n",
       "      <td>tenure_low_year</td>\n",
       "      <td>1992.0</td>\n",
       "      <td>4.0</td>\n",
       "      <td>2.0</td>\n",
       "      <td>1575</td>\n",
       "      <td>...</td>\n",
       "      <td>1</td>\n",
       "      <td>0</td>\n",
       "      <td>0</td>\n",
       "      <td>0</td>\n",
       "      <td>0</td>\n",
       "      <td>0</td>\n",
       "      <td>0</td>\n",
       "      <td>0</td>\n",
       "      <td>0</td>\n",
       "      <td>1</td>\n",
       "    </tr>\n",
       "    <tr>\n",
       "      <th>2</th>\n",
       "      <td>665422</td>\n",
       "      <td>4 bed condo for sale in meyerhouse</td>\n",
       "      <td>128 meyer road</td>\n",
       "      <td>meyerhouse</td>\n",
       "      <td>property_type_private</td>\n",
       "      <td>tenure_high_year</td>\n",
       "      <td>2022.0</td>\n",
       "      <td>4.0</td>\n",
       "      <td>6.0</td>\n",
       "      <td>3070</td>\n",
       "      <td>...</td>\n",
       "      <td>0</td>\n",
       "      <td>0</td>\n",
       "      <td>0</td>\n",
       "      <td>1</td>\n",
       "      <td>0</td>\n",
       "      <td>0</td>\n",
       "      <td>0</td>\n",
       "      <td>1</td>\n",
       "      <td>0</td>\n",
       "      <td>0</td>\n",
       "    </tr>\n",
       "    <tr>\n",
       "      <th>3</th>\n",
       "      <td>857699</td>\n",
       "      <td>3 bed condo for sale in leedon green</td>\n",
       "      <td>26 leedon heights</td>\n",
       "      <td>leedon green</td>\n",
       "      <td>property_type_private</td>\n",
       "      <td>tenure_high_year</td>\n",
       "      <td>2023.0</td>\n",
       "      <td>3.0</td>\n",
       "      <td>2.0</td>\n",
       "      <td>958</td>\n",
       "      <td>...</td>\n",
       "      <td>0</td>\n",
       "      <td>0</td>\n",
       "      <td>0</td>\n",
       "      <td>0</td>\n",
       "      <td>0</td>\n",
       "      <td>0</td>\n",
       "      <td>0</td>\n",
       "      <td>1</td>\n",
       "      <td>0</td>\n",
       "      <td>0</td>\n",
       "    </tr>\n",
       "    <tr>\n",
       "      <th>4</th>\n",
       "      <td>216061</td>\n",
       "      <td>2 bed condo for sale in one bernam</td>\n",
       "      <td>1 bernam street</td>\n",
       "      <td>one bernam</td>\n",
       "      <td>property_type_private</td>\n",
       "      <td>tenure_low_year</td>\n",
       "      <td>2026.0</td>\n",
       "      <td>2.0</td>\n",
       "      <td>1.0</td>\n",
       "      <td>732</td>\n",
       "      <td>...</td>\n",
       "      <td>1</td>\n",
       "      <td>0</td>\n",
       "      <td>0</td>\n",
       "      <td>0</td>\n",
       "      <td>0</td>\n",
       "      <td>0</td>\n",
       "      <td>0</td>\n",
       "      <td>0</td>\n",
       "      <td>0</td>\n",
       "      <td>1</td>\n",
       "    </tr>\n",
       "  </tbody>\n",
       "</table>\n",
       "<p>5 rows × 34 columns</p>\n",
       "</div>"
      ],
      "text/plain": [
       "   listing_id                                              title  \\\n",
       "0      122881          hdb flat for sale in 866 yishun street 81   \n",
       "1      259374  hdb flat for sale in 506b serangoon north aven...   \n",
       "2      665422                 4 bed condo for sale in meyerhouse   \n",
       "3      857699               3 bed condo for sale in leedon green   \n",
       "4      216061                 2 bed condo for sale in one bernam   \n",
       "\n",
       "                              address         property_name  \\\n",
       "0            sembawang / yishun (d27)  866 yishun street 81   \n",
       "1  hougang / punggol / sengkang (d19)  hdb-serangoon estate   \n",
       "2                      128 meyer road            meyerhouse   \n",
       "3                   26 leedon heights          leedon green   \n",
       "4                     1 bernam street            one bernam   \n",
       "\n",
       "           property_type            tenure  built_year  num_beds  num_baths  \\\n",
       "0   property_type_public                NA      1988.0       3.0        2.0   \n",
       "1   property_type_public   tenure_low_year      1992.0       4.0        2.0   \n",
       "2  property_type_private  tenure_high_year      2022.0       4.0        6.0   \n",
       "3  property_type_private  tenure_high_year      2023.0       3.0        2.0   \n",
       "4  property_type_private   tenure_low_year      2026.0       2.0        1.0   \n",
       "\n",
       "   size_sqft  ... tenure_low_year floor_level_ground floor_level_high  \\\n",
       "0       1115  ...               0                  0                0   \n",
       "1       1575  ...               1                  0                0   \n",
       "2       3070  ...               0                  0                0   \n",
       "3        958  ...               0                  0                0   \n",
       "4        732  ...               1                  0                0   \n",
       "\n",
       "   floor_level_low floor_level_mid  floor_level_penthouse  floor_level_top  \\\n",
       "0                0               0                      0                0   \n",
       "1                0               0                      0                0   \n",
       "2                1               0                      0                0   \n",
       "3                0               0                      0                0   \n",
       "4                0               0                      0                0   \n",
       "\n",
       "   furnishing_partial furnishing_unfurnished furnishing_unspecified  \n",
       "0                   0                      0                      1  \n",
       "1                   0                      0                      1  \n",
       "2                   1                      0                      0  \n",
       "3                   1                      0                      0  \n",
       "4                   0                      0                      1  \n",
       "\n",
       "[5 rows x 34 columns]"
      ]
     },
     "execution_count": 4,
     "metadata": {},
     "output_type": "execute_result"
    }
   ],
   "source": [
    "df.head()"
   ]
  },
  {
   "cell_type": "code",
   "execution_count": 6,
   "id": "82177af5",
   "metadata": {},
   "outputs": [],
   "source": [
    "# drop some columns not useful for prediction\n",
    "\n",
    "def drop_cols_for_regression(df):\n",
    "    df_without_columns = df.drop(['address', 'title', 'listing_id', 'property_name', 'total_num_units', 'available_unit_types', 'property_details_url'], axis=1)\n",
    "    df_after_explore = df.drop(['elevation', 'tenure', 'property_type', 'floor_level', 'furnishing'], axis=1)\n",
    "    return df_after_explore\n",
    "\n",
    "df_train = drop_cols_for_regression(df)"
   ]
  },
  {
   "cell_type": "code",
   "execution_count": 7,
   "id": "0be26a5b",
   "metadata": {},
   "outputs": [
    {
     "data": {
      "text/plain": [
       "1    12431\n",
       "0     7333\n",
       "Name: property_type_private, dtype: int64"
      ]
     },
     "execution_count": 7,
     "metadata": {},
     "output_type": "execute_result"
    }
   ],
   "source": [
    "# exploring some columns and their values\n",
    "df['property_type_private'].value_counts()"
   ]
  },
  {
   "cell_type": "code",
   "execution_count": 8,
   "id": "d6be74d5",
   "metadata": {},
   "outputs": [
    {
     "data": {
      "text/plain": [
       "0"
      ]
     },
     "execution_count": 8,
     "metadata": {},
     "output_type": "execute_result"
    }
   ],
   "source": [
    "df['planning_area'].isna().sum()"
   ]
  },
  {
   "cell_type": "code",
   "execution_count": 9,
   "id": "22168c6f",
   "metadata": {},
   "outputs": [],
   "source": [
    "# drop some more columns after more exploration\n",
    "df_after_explore = df.drop(['elevation', 'tenure', 'property_type', 'floor_level', 'furnishing'], axis=1)"
   ]
  },
  {
   "cell_type": "code",
   "execution_count": 10,
   "id": "6c288138",
   "metadata": {},
   "outputs": [],
   "source": [
    "# encode some more stuff\n",
    "from sklearn.pipeline import make_pipeline\n",
    "from sklearn.compose import make_column_transformer\n",
    "from sklearn.preprocessing import StandardScaler, PolynomialFeatures\n",
    "\n",
    "numeric_features = ['size_sqft', 'num_beds', 'num_baths']\n",
    "numeric_transformer = make_pipeline(StandardScaler())\n",
    "\n",
    "preprocessor = make_column_transformer((numeric_transformer, numeric_features))"
   ]
  },
  {
   "cell_type": "code",
   "execution_count": 11,
   "id": "6c12459a",
   "metadata": {},
   "outputs": [],
   "source": [
    "X_train = df_train.drop('price', axis=1)\n",
    "y_train = df_train['price']"
   ]
  },
  {
   "cell_type": "code",
   "execution_count": 12,
   "id": "e562c864",
   "metadata": {},
   "outputs": [
    {
     "name": "stdout",
     "output_type": "stream",
     "text": [
      "KNeighborsRegressor 1469484.1061346997\n",
      "Lasso 3172440.323409148\n",
      "Ridge 1773034.843367948\n",
      "DecisionTreeRegressor 1459811.9929123\n",
      "GradientBoostingRegressor 1466833.3135607387\n",
      "AdaBoostRegressor 1823367.7798214399\n",
      "RandomForestRegressor 1314880.224013635\n"
     ]
    }
   ],
   "source": [
    "from sklearn.neighbors import KNeighborsRegressor\n",
    "from sklearn.linear_model import Ridge, Lasso\n",
    "from sklearn.tree import DecisionTreeRegressor\n",
    "from sklearn.ensemble import GradientBoostingRegressor, AdaBoostRegressor, RandomForestRegressor\n",
    "from sklearn.metrics import mean_squared_error, make_scorer\n",
    "from sklearn.pipeline import make_pipeline\n",
    "from sklearn.model_selection import cross_val_score, cross_validate, StratifiedKFold\n",
    "from sklearn.compose import TransformedTargetRegressor\n",
    "\n",
    "def rmse(y_true, y_pred):\n",
    "    mse = mean_squared_error(y_true, y_pred)\n",
    "    score = np.sqrt(mse)\n",
    "    return score\n",
    "\n",
    "def rmse_scorer():\n",
    "    return make_scorer(rmse)\n",
    "\n",
    "\n",
    "models = []\n",
    "model_scores = []\n",
    "for model in [KNeighborsRegressor,\n",
    "              Lasso,\n",
    "              Ridge,\n",
    "              DecisionTreeRegressor,\n",
    "              GradientBoostingRegressor,\n",
    "              AdaBoostRegressor,\n",
    "              RandomForestRegressor]:\n",
    "    candidate = model()\n",
    "    pipe = make_pipeline(preprocessor, candidate)\n",
    "    regr = TransformedTargetRegressor(regressor=pipe, transformer=StandardScaler())\n",
    "    scores = cross_validate(regr, X_train, y_train, cv=5, scoring=rmse_scorer())\n",
    "    regr.fit(X_train, y_train)\n",
    "    models.append(regr)\n",
    "    model_scores.append(scores['test_score'].mean())\n",
    "    print(candidate.__class__.__name__, scores['test_score'].mean())"
   ]
  },
  {
   "cell_type": "code",
   "execution_count": 29,
   "id": "164e1e2e",
   "metadata": {},
   "outputs": [
    {
     "name": "stdout",
     "output_type": "stream",
     "text": [
      "6966\n"
     ]
    }
   ],
   "source": [
    "df_test = pd.read_csv('../data/test.csv')\n",
    "df_test = preprocess(df_test, is_target=True)\n",
    "X_test = drop_cols_for_regression(df_test)\n",
    "print(X_test.shape[0])"
   ]
  },
  {
   "cell_type": "code",
   "execution_count": 30,
   "id": "a172c513",
   "metadata": {},
   "outputs": [],
   "source": [
    "index_min = np.argmin(model_scores)\n",
    "y_predict = models[index_min].predict(X_test)\n",
    "\n",
    "X_test['Predicted'] = y_predict"
   ]
  },
  {
   "cell_type": "code",
   "execution_count": 31,
   "id": "f1a3dd5f",
   "metadata": {},
   "outputs": [],
   "source": [
    "submission = X_test[['Predicted']]\n",
    "submission.to_csv('submission.csv', index=True, index_label='id', header=True, columns=['Predicted'])"
   ]
  },
  {
   "cell_type": "code",
   "execution_count": null,
   "id": "f2336b50",
   "metadata": {},
   "outputs": [],
   "source": []
  }
 ],
 "metadata": {
  "kernelspec": {
   "display_name": "Python 3 (ipykernel)",
   "language": "python",
   "name": "python3"
  },
  "language_info": {
   "codemirror_mode": {
    "name": "ipython",
    "version": 3
   },
   "file_extension": ".py",
   "mimetype": "text/x-python",
   "name": "python",
   "nbconvert_exporter": "python",
   "pygments_lexer": "ipython3",
   "version": "3.9.13"
  }
 },
 "nbformat": 4,
 "nbformat_minor": 5
}

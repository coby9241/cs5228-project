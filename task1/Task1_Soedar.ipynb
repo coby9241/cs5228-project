{
 "cells": [
  {
   "cell_type": "code",
   "execution_count": 1,
   "id": "3cf65196",
   "metadata": {},
   "outputs": [],
   "source": [
    "%load_ext autoreload\n",
    "%autoreload 2\n",
    "%reload_ext autoreload"
   ]
  },
  {
   "cell_type": "code",
   "execution_count": 2,
   "id": "88e3b2bc",
   "metadata": {},
   "outputs": [],
   "source": [
    "import sys\n",
    "sys.path.append('../')\n",
    "\n",
    "from utils.processing import *\n",
    "from utils.visualisation import *\n",
    "\n",
    "import numpy as np\n",
    "import pandas as pd\n",
    "import matplotlib.pyplot as plt\n",
    "\n",
    "from sklearn.neighbors import KNeighborsRegressor\n",
    "from sklearn.linear_model import LinearRegression\n",
    "from sklearn.metrics import mean_squared_error"
   ]
  },
  {
   "cell_type": "code",
   "execution_count": 3,
   "id": "4d9a0101",
   "metadata": {},
   "outputs": [],
   "source": [
    "pd.set_option('display.max_columns', 50)\n",
    "pd.set_option('display.max_colwidth', 80)"
   ]
  },
  {
   "cell_type": "code",
   "execution_count": 4,
   "id": "3e52cbc4",
   "metadata": {},
   "outputs": [],
   "source": [
    "# load data set\n",
    "df = preprocess(pd.read_csv('../data/train.csv'))\n",
    "adfs = read_aux_csv('../data/')\n",
    "\n",
    "# further preprocessing\n",
    "df_orig = join_aux(df, adfs)"
   ]
  },
  {
   "cell_type": "code",
   "execution_count": 5,
   "id": "2de24e9c",
   "metadata": {},
   "outputs": [],
   "source": [
    "drop_columns = [\n",
    "    'lat', \n",
    "    'lng', \n",
    "    'built_year', \n",
    "    'subzone', \n",
    "    'planning_area', \n",
    "    'region', \n",
    "    'property_type', \n",
    "    'elevation', \n",
    "    'listing_id', \n",
    "    'title', \n",
    "    'address', \n",
    "    'property_name', \n",
    "    'available_unit_types', \n",
    "    'total_num_units', \n",
    "    'property_details_url', \n",
    "    'furnishing', \n",
    "    'floor_level',\n",
    "    'tenure',\n",
    "    'pri_sch_outside_500m',\n",
    "    'gep_pri_sch_outside_2km',\n",
    "    'gep_pri_sch_within_1km_2km',\n",
    "]\n",
    "df = df_orig.drop(columns=drop_columns)"
   ]
  },
  {
   "cell_type": "code",
   "execution_count": 6,
   "id": "bd9d0249",
   "metadata": {},
   "outputs": [
    {
     "data": {
      "text/html": [
       "<div>\n",
       "<style scoped>\n",
       "    .dataframe tbody tr th:only-of-type {\n",
       "        vertical-align: middle;\n",
       "    }\n",
       "\n",
       "    .dataframe tbody tr th {\n",
       "        vertical-align: top;\n",
       "    }\n",
       "\n",
       "    .dataframe thead th {\n",
       "        text-align: right;\n",
       "    }\n",
       "</style>\n",
       "<table border=\"1\" class=\"dataframe\">\n",
       "  <thead>\n",
       "    <tr style=\"text-align: right;\">\n",
       "      <th></th>\n",
       "      <th>num_beds</th>\n",
       "      <th>num_baths</th>\n",
       "      <th>size_sqft</th>\n",
       "      <th>price</th>\n",
       "      <th>property_type_private</th>\n",
       "      <th>property_type_public</th>\n",
       "      <th>tenure_high_year</th>\n",
       "      <th>tenure_low_year</th>\n",
       "      <th>floor_level_ground</th>\n",
       "      <th>floor_level_high</th>\n",
       "      <th>floor_level_low</th>\n",
       "      <th>floor_level_mid</th>\n",
       "      <th>floor_level_penthouse</th>\n",
       "      <th>floor_level_top</th>\n",
       "      <th>furnishing_partial</th>\n",
       "      <th>furnishing_unfurnished</th>\n",
       "      <th>furnishing_unspecified</th>\n",
       "      <th>nearest_mrt_distance_in_km</th>\n",
       "      <th>line_cc</th>\n",
       "      <th>line_ce</th>\n",
       "      <th>line_cg</th>\n",
       "      <th>line_dt</th>\n",
       "      <th>line_ew</th>\n",
       "      <th>line_ne</th>\n",
       "      <th>line_ns</th>\n",
       "      <th>line_te</th>\n",
       "      <th>nearest_pri_sch_distance_in_km</th>\n",
       "      <th>nearest_gep_pri_sch_distance_in_km</th>\n",
       "      <th>gep_pri_sch_within_1km</th>\n",
       "      <th>pri_sch_within_500m</th>\n",
       "      <th>nearest_com_centre_distance_in_km</th>\n",
       "      <th>cc_type_BN</th>\n",
       "      <th>cc_type_CR</th>\n",
       "      <th>cc_type_IEBP</th>\n",
       "      <th>cc_type_IEPB</th>\n",
       "      <th>cc_type_IHL</th>\n",
       "      <th>nearest_mall_distance_in_km</th>\n",
       "      <th>area_size</th>\n",
       "      <th>population</th>\n",
       "      <th>density</th>\n",
       "    </tr>\n",
       "  </thead>\n",
       "  <tbody>\n",
       "  </tbody>\n",
       "</table>\n",
       "</div>"
      ],
      "text/plain": [
       "Empty DataFrame\n",
       "Columns: [num_beds, num_baths, size_sqft, price, property_type_private, property_type_public, tenure_high_year, tenure_low_year, floor_level_ground, floor_level_high, floor_level_low, floor_level_mid, floor_level_penthouse, floor_level_top, furnishing_partial, furnishing_unfurnished, furnishing_unspecified, nearest_mrt_distance_in_km, line_cc, line_ce, line_cg, line_dt, line_ew, line_ne, line_ns, line_te, nearest_pri_sch_distance_in_km, nearest_gep_pri_sch_distance_in_km, gep_pri_sch_within_1km, pri_sch_within_500m, nearest_com_centre_distance_in_km, cc_type_BN, cc_type_CR, cc_type_IEBP, cc_type_IEPB, cc_type_IHL, nearest_mall_distance_in_km, area_size, population, density]\n",
       "Index: []"
      ]
     },
     "execution_count": 6,
     "metadata": {},
     "output_type": "execute_result"
    }
   ],
   "source": [
    "df.head()\n",
    "df[df.isna().any(axis=1)]"
   ]
  },
  {
   "cell_type": "code",
   "execution_count": 7,
   "id": "edd39557",
   "metadata": {},
   "outputs": [],
   "source": [
    "# split data set into training and validation\n",
    "\n",
    "df_train = df.sample(frac = 0.70)\n",
    "df_validate = df.drop(df_train.index)\n",
    "\n",
    "X, y = df_train.drop(columns=['price']), df_train['price']\n",
    "vX, vy = df_validate.drop(columns=['price']), df_validate['price']"
   ]
  },
  {
   "cell_type": "code",
   "execution_count": 8,
   "id": "3577428c",
   "metadata": {},
   "outputs": [
    {
     "name": "stdout",
     "output_type": "stream",
     "text": [
      "KNeighborsRegressor()\n",
      "769490.4455338941\n",
      "984388.2045130444\n",
      "\n",
      "LinearRegression()\n",
      "1439824.7062919268\n",
      "1456830.771904208\n",
      "\n"
     ]
    }
   ],
   "source": [
    "rs = [\n",
    "    KNeighborsRegressor(n_neighbors=5),\n",
    "    LinearRegression()\n",
    "]\n",
    "\n",
    "for r in rs:\n",
    "    r.fit(X, y)\n",
    "\n",
    "    print(r)\n",
    "    \n",
    "    y_pred = r.predict(X)\n",
    "    print(np.sqrt(mean_squared_error(y, y_pred)))\n",
    "\n",
    "    vy_pred = r.predict(vX)\n",
    "    print(np.sqrt(mean_squared_error(vy, vy_pred)))\n",
    "    print()"
   ]
  },
  {
   "cell_type": "code",
   "execution_count": 9,
   "id": "c38ec75d",
   "metadata": {},
   "outputs": [
    {
     "name": "stdout",
     "output_type": "stream",
     "text": [
      "KNeighborsRegressor()\n",
      "798536.7853113204\n",
      "996815.66879076\n",
      "\n",
      "LinearRegression()\n",
      "984843.9500983054\n",
      "1086463.8639780201\n",
      "\n"
     ]
    }
   ],
   "source": [
    "from sklearn.preprocessing import PolynomialFeatures\n",
    "\n",
    "poly = PolynomialFeatures(2, interaction_only=True)\n",
    "pX = poly.fit_transform(X)\n",
    "pvX = poly.fit_transform(vX)\n",
    "\n",
    "rs = [\n",
    "    KNeighborsRegressor(n_neighbors=5),\n",
    "    LinearRegression()\n",
    "]\n",
    "\n",
    "for r in rs:\n",
    "    r.fit(pX, y)\n",
    "\n",
    "    print(r)\n",
    "    \n",
    "    y_pred = r.predict(pX)\n",
    "    print(np.sqrt(mean_squared_error(y, y_pred)))\n",
    "\n",
    "    vy_pred = r.predict(pvX)\n",
    "    print(np.sqrt(mean_squared_error(vy, vy_pred)))\n",
    "    print()"
   ]
  },
  {
   "cell_type": "code",
   "execution_count": 10,
   "id": "5df14c52",
   "metadata": {},
   "outputs": [
    {
     "data": {
      "text/plain": [
       "array([[1.00000000e+00, 3.00000000e+00, 2.00000000e+00, ...,\n",
       "        5.30409600e+03, 1.51200000e+04, 6.51694413e+08],\n",
       "       [1.00000000e+00, 2.00000000e+00, 2.00000000e+00, ...,\n",
       "        1.23669000e+03, 3.15000000e+03, 2.52738156e+07],\n",
       "       [1.00000000e+00, 2.00000000e+00, 1.00000000e+00, ...,\n",
       "        6.24796380e+04, 3.24300000e+04, 5.45886484e+08],\n",
       "       ...,\n",
       "       [1.00000000e+00, 3.00000000e+00, 2.00000000e+00, ...,\n",
       "        1.65179940e+04, 1.60900000e+04, 2.52180109e+08],\n",
       "       [1.00000000e+00, 2.00000000e+00, 2.00000000e+00, ...,\n",
       "        2.43910590e+04, 9.93000000e+03, 4.01436714e+07],\n",
       "       [1.00000000e+00, 3.00000000e+00, 2.00000000e+00, ...,\n",
       "        3.56155300e+04, 2.55400000e+04, 4.67760201e+08]])"
      ]
     },
     "execution_count": 10,
     "metadata": {},
     "output_type": "execute_result"
    }
   ],
   "source": [
    "# Test out poly features and xgboost on choon boon's experiments\n",
    "\n",
    "import xgboost as xgb\n",
    "\n",
    "X_train, y_train = df.drop(columns=['price']), df['price']\n",
    "poly = PolynomialFeatures(2, interaction_only=True)\n",
    "poly.fit_transform(X_train)"
   ]
  },
  {
   "cell_type": "code",
   "execution_count": 11,
   "id": "8654b624",
   "metadata": {},
   "outputs": [
    {
     "name": "stdout",
     "output_type": "stream",
     "text": [
      "KNeighborsRegressor 1484574.4536951212\n",
      "Lasso 3172131.376098768\n",
      "Ridge 1773068.2195744957\n",
      "DecisionTreeRegressor 1468549.5234242794\n",
      "GradientBoostingRegressor 1452893.5967807132\n",
      "AdaBoostRegressor 1805186.5535296306\n",
      "RandomForestRegressor 1301217.4128629859\n",
      "LinearRegression 1773069.0686500818\n",
      "XGBRegressor 1287105.5170104816\n"
     ]
    }
   ],
   "source": [
    "from sklearn.neighbors import KNeighborsRegressor\n",
    "from sklearn.linear_model import Ridge, Lasso\n",
    "from sklearn.tree import DecisionTreeRegressor\n",
    "from sklearn.ensemble import GradientBoostingRegressor, AdaBoostRegressor, RandomForestRegressor\n",
    "from sklearn.metrics import mean_squared_error, make_scorer\n",
    "from sklearn.pipeline import make_pipeline\n",
    "from sklearn.model_selection import cross_val_score, cross_validate, StratifiedKFold\n",
    "from sklearn.compose import TransformedTargetRegressor\n",
    "\n",
    "def rmse(y_true, y_pred):\n",
    "    mse = mean_squared_error(y_true, y_pred)\n",
    "    score = np.sqrt(mse)\n",
    "    return score\n",
    "\n",
    "def rmse_scorer():\n",
    "    return make_scorer(rmse)\n",
    "\n",
    "# encode some more stuff\n",
    "from sklearn.pipeline import make_pipeline\n",
    "from sklearn.compose import make_column_transformer\n",
    "from sklearn.preprocessing import StandardScaler, PolynomialFeatures\n",
    "\n",
    "numeric_features = ['size_sqft', 'num_beds', 'num_baths']\n",
    "numeric_transformer = make_pipeline(StandardScaler())\n",
    "\n",
    "preprocessor = make_column_transformer((numeric_transformer, numeric_features))\n",
    "\n",
    "models = []\n",
    "model_scores = []\n",
    "for model in [KNeighborsRegressor,\n",
    "              Lasso,\n",
    "              Ridge,\n",
    "              DecisionTreeRegressor,\n",
    "              GradientBoostingRegressor,\n",
    "              AdaBoostRegressor,\n",
    "              RandomForestRegressor,\n",
    "              LinearRegression,\n",
    "              xgb.XGBRegressor]:\n",
    "    candidate = model()\n",
    "    pipe = make_pipeline(preprocessor, candidate)\n",
    "    regr = TransformedTargetRegressor(regressor=pipe, transformer=StandardScaler())\n",
    "    scores = cross_validate(regr, X_train, y_train, cv=5, scoring=rmse_scorer())\n",
    "    regr.fit(X_train, y_train)\n",
    "    models.append(regr)\n",
    "    model_scores.append(scores['test_score'].mean())\n",
    "    print(candidate.__class__.__name__, scores['test_score'].mean())"
   ]
  },
  {
   "cell_type": "code",
   "execution_count": null,
   "id": "b403934c",
   "metadata": {},
   "outputs": [],
   "source": []
  }
 ],
 "metadata": {
  "kernelspec": {
   "display_name": "Python 3 (ipykernel)",
   "language": "python",
   "name": "python3"
  },
  "language_info": {
   "codemirror_mode": {
    "name": "ipython",
    "version": 3
   },
   "file_extension": ".py",
   "mimetype": "text/x-python",
   "name": "python",
   "nbconvert_exporter": "python",
   "pygments_lexer": "ipython3",
   "version": "3.10.6"
  }
 },
 "nbformat": 4,
 "nbformat_minor": 5
}
